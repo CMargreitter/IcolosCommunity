{
 "cells": [
  {
   "cell_type": "markdown",
   "metadata": {},
   "source": [
    "## Icolos Docking Workflow Demo\n",
    "Icolos can perform automated docking, with support for advanced features such as ensemble docking and pose rescoring. \n",
    "\n",
    "In this notebook, we demonstrate a minimal working example of a docking workflow, using LigPrep and Glide. More complex workflows examples, including rescoring methods and ensemble docking, and a comprehensive list of additional settings can be found in the documentation.\n",
    "\n",
    "Files required to execute the workflow are provided in the accompanying IcolosData repository, available at https://github.com/MolecularAI/IcolosData.\n",
    "\n",
    "Note, we provide an `icoloscommunity` environment which should be used for this notebook.  It contains the jupyter dependencies in addition to the Icolos production environment requirements, allowing you to execute workflows from within the notebook"
   ]
  },
  {
   "cell_type": "markdown",
   "metadata": {},
   "source": [
    "### Step 1: Prepare input files\n",
    "The following files are required to start the docking run\n",
    "* Receptor grid (normally prepared in the Maestro GUI)\n",
    "* smiles strings for the compounds to dock, in `.smi` or `.csv` format\n",
    "* Icolos config file: a `JSON` file containing the run settings.  Templates for the most common workflows can be found in the `examples` folder of main Icolos repository."
   ]
  },
  {
   "cell_type": "code",
   "execution_count": 13,
   "metadata": {},
   "outputs": [],
   "source": [
    "import os\n",
    "import json\n",
    "import subprocess\n",
    "import pandas as pd\n",
    "\n",
    "# set up some file paths to use the provided test data\n",
    "# please ammend as appropriate\n",
    "icolos_path = \"~/Icolos\"\n",
    "data_dir = \"~/IcolosData\"\n",
    "output_dir = \"../output\"\n",
    "config_dir = \"../config/docking\"\n",
    "for path in [output_dir, config_dir]:\n",
    "    if not os.path.isdir(path):\n",
    "        os.makedirs(path)\n",
    "grid_path = os.path.expanduser(os.path.join(data_dir, \"Glide/1UYD_grid_constraints.zip\"))\n",
    "smiles_path = os.path.expanduser(os.path.join(data_dir, \"molecules/paracetamol.smi\"))\n",
    "\n",
    "\n"
   ]
  },
  {
   "cell_type": "code",
   "execution_count": 14,
   "metadata": {},
   "outputs": [],
   "source": [
    "conf={\n",
    "    \"workflow\": {\n",
    "        \"header\": {\n",
    "            \"workflow_id\": \"docking_minimal\",\n",
    "            \"description\": \"demonstration docking job with LigPrep + Glide\",\n",
    "            \"environment\": {\n",
    "                \"export\": [\n",
    "                ]\n",
    "            },\n",
    "            \"global_variables\": {\n",
    "                \n",
    "            }\n",
    "        },\n",
    "        \"steps\": [{\n",
    "                \"step_id\": \"initialization_smile\",\n",
    "                \"type\": \"initialization\",\n",
    "                \"input\": {\n",
    "                    # specify compounds parsed from the .smi file\n",
    "                    \"compounds\": [{\n",
    "                            \"source\": smiles_path,\n",
    "                            \"source_type\": \"file\",\n",
    "                            \"format\": \"SMI\"\n",
    "                        }\n",
    "                    ]\n",
    "                }\n",
    "            }, {\n",
    "                \"step_id\": \"Ligprep\",\n",
    "                \"type\": \"ligprep\",\n",
    "                \"execution\": {\n",
    "                    \"prefix_execution\": \"module load schrodinger/2021-2-js-aws\",\n",
    "                    \"parallelization\": {\n",
    "                        \"cores\": 2,\n",
    "                        \"max_length_sublists\": 1\n",
    "                    },\n",
    "                    # automatic resubmission on job failure\n",
    "                    \"failure_policy\": {\n",
    "                        \"n_tries\": 3\n",
    "                    }\n",
    "                },\n",
    "                \"settings\": {\n",
    "                    \"arguments\": {\n",
    "                        # flags and params passed straight to LigPrep\n",
    "                        \"flags\": [\"-epik\"],\n",
    "                        \"parameters\": {\n",
    "                            \"-ph\": 7.0,\n",
    "                            \"-pht\": 2.0,\n",
    "                            \"-s\": 10,\n",
    "                            \"-bff\": 14\n",
    "                        }\n",
    "                    },\n",
    "                    \"additional\": {\n",
    "                        \"filter_file\": {\n",
    "                            \"Total_charge\": \"!= 0\"\n",
    "                        }\n",
    "                    }\n",
    "                },\n",
    "                \"input\": {\n",
    "                    # load initialized compounds from the previous step\n",
    "                    \"compounds\": [{\n",
    "                            \"source\": \"initialization_smile\",\n",
    "                            \"source_type\": \"step\"\n",
    "                        }\n",
    "                    ]\n",
    "                }\n",
    "            }, {\n",
    "                \"step_id\": \"Glide\",\n",
    "                \"type\": \"glide\",\n",
    "                \"execution\": {\n",
    "                    \"prefix_execution\": \"module load schrodinger/2021-2-js-aws\",\n",
    "                    \"parallelization\": {\n",
    "                        \"cores\": 4,\n",
    "                        \"max_length_sublists\": 1\n",
    "                    },\n",
    "                    \"failure_policy\": {\n",
    "                        \"n_tries\": 3\n",
    "                    }\n",
    "                },\n",
    "                \"settings\": {\n",
    "                    \"arguments\": {\n",
    "                        \"flags\": [],\n",
    "                        \"parameters\": {\n",
    "                            \"-HOST\": \"cpu-only\"\n",
    "                        }\n",
    "                    },\n",
    "                    \"additional\": {\n",
    "                        # glide configuration for the .in file\n",
    "                        \"configuration\": {\n",
    "                            \"AMIDE_MODE\": \"trans\",\n",
    "                            \"EXPANDED_SAMPLING\": \"True\",\n",
    "                            \"GRIDFILE\": [grid_path],\n",
    "                            \"NENHANCED_SAMPLING\": \"1\",\n",
    "                            \"POSE_OUTTYPE\": \"ligandlib_sd\",\n",
    "                            \"POSES_PER_LIG\": \"3\",\n",
    "                            \"POSTDOCK_NPOSE\": \"25\",\n",
    "                            \"POSTDOCKSTRAIN\": \"True\",\n",
    "                            \"PRECISION\": \"SP\",\n",
    "                            \"REWARD_INTRA_HBONDS\": \"True\"\n",
    "                        }\n",
    "                    }\n",
    "                },\n",
    "                \"input\": {\n",
    "                    # take embedded compounds from the previous step\n",
    "                    \"compounds\": [{\n",
    "                            \"source\": \"Ligprep\",\n",
    "                            \"source_type\": \"step\"\n",
    "                        }\n",
    "                    ]\n",
    "                },\n",
    "                \"writeout\": [\n",
    "                    # write a sdf file with all conformers\n",
    "                    {\n",
    "                        \"compounds\": {\n",
    "                            \"category\": \"conformers\"\n",
    "                        },\n",
    "                        \"destination\": {\n",
    "                            \"resource\": os.path.join(output_dir,\"docked_conformers.sdf\"),\n",
    "                            \"type\": \"file\",\n",
    "                            \"format\": \"SDF\"\n",
    "                        }\n",
    "                    },\n",
    "                    # write a csv file with the top docking score per compound\n",
    "                    {\n",
    "                        \"compounds\": {\n",
    "                            \"category\": \"conformers\",\n",
    "                            \"selected_tags\": [\"docking_score\"],\n",
    "                            \"aggregation\": {\n",
    "                                \"mode\": \"best_per_compound\",\n",
    "                                \"key\": \"docking_score\"\n",
    "                            }\n",
    "                        },\n",
    "                        \"destination\": {\n",
    "                            \"resource\": os.path.join(output_dir, \"docked_conformers.csv\"),\n",
    "                            \"type\": \"file\",\n",
    "                            \"format\": \"CSV\"\n",
    "                        }\n",
    "                    }\n",
    "                ]\n",
    "            }\n",
    "        ]\n",
    "    }\n",
    "}\n",
    "\n",
    "\n",
    "with open(os.path.join(config_dir, \"docking_conf.json\"), 'w') as f:\n",
    "    json.dump(conf, f, indent=4)"
   ]
  },
  {
   "cell_type": "markdown",
   "metadata": {},
   "source": [
    "The workflow can be executed by running the following command (with paths ammended as necessary), in a terminal. "
   ]
  },
  {
   "cell_type": "code",
   "execution_count": 15,
   "metadata": {},
   "outputs": [
    {
     "name": "stdout",
     "output_type": "stream",
     "text": [
      "WARNING - Could not import module espsim, check it is installed in your environment\n"
     ]
    },
    {
     "name": "stderr",
     "output_type": "stream",
     "text": [
      "step_writeout.py:488: FutureWarning: The default value of regex will change from True to False in a future version. In addition, single character regular expressions will *not* be treated as literal strings when regex=True.\n",
      "  df.columns.str.strip()\n"
     ]
    },
    {
     "data": {
      "text/plain": [
       "CompletedProcess(args='python ~/Icolos/executor.py -conf ../config/docking/docking_conf.json', returncode=0)"
      ]
     },
     "execution_count": 15,
     "metadata": {},
     "output_type": "execute_result"
    }
   ],
   "source": [
    "# this run will take a few minutes to complete\n",
    "icolos_executor = os.path.join(icolos_path, \"executor.py\")\n",
    "docking_conf = os.path.join(config_dir, \"docking_conf.json\")\n",
    "\n",
    "command = f\"python {icolos_executor} -conf {docking_conf}\"\n",
    "subprocess.run(command, shell=True)"
   ]
  },
  {
   "cell_type": "markdown",
   "metadata": {},
   "source": [
    "We will briefly inspect the results files"
   ]
  },
  {
   "cell_type": "code",
   "execution_count": 16,
   "metadata": {},
   "outputs": [
    {
     "data": {
      "text/html": [
       "<div>\n",
       "<style scoped>\n",
       "    .dataframe tbody tr th:only-of-type {\n",
       "        vertical-align: middle;\n",
       "    }\n",
       "\n",
       "    .dataframe tbody tr th {\n",
       "        vertical-align: top;\n",
       "    }\n",
       "\n",
       "    .dataframe thead th {\n",
       "        text-align: right;\n",
       "    }\n",
       "</style>\n",
       "<table border=\"1\" class=\"dataframe\">\n",
       "  <thead>\n",
       "    <tr style=\"text-align: right;\">\n",
       "      <th></th>\n",
       "      <th>_Name</th>\n",
       "      <th>compound_name</th>\n",
       "      <th>docking_score</th>\n",
       "    </tr>\n",
       "  </thead>\n",
       "  <tbody>\n",
       "    <tr>\n",
       "      <th>0</th>\n",
       "      <td>0:0:2</td>\n",
       "      <td>Paracetamol</td>\n",
       "      <td>-6.02349</td>\n",
       "    </tr>\n",
       "  </tbody>\n",
       "</table>\n",
       "</div>"
      ],
      "text/plain": [
       "   _Name compound_name  docking_score\n",
       "0  0:0:2   Paracetamol       -6.02349"
      ]
     },
     "execution_count": 16,
     "metadata": {},
     "output_type": "execute_result"
    }
   ],
   "source": [
    "results = pd.read_csv(os.path.join(output_dir, \"docked_conformers.csv\"))\n",
    "results.head()"
   ]
  },
  {
   "cell_type": "code",
   "execution_count": null,
   "metadata": {},
   "outputs": [],
   "source": []
  }
 ],
 "metadata": {
  "interpreter": {
   "hash": "164aa9bab7d61c81d532772364b7189d041841781e0b54c6bee60d3430c2abaf"
  },
  "kernelspec": {
   "display_name": "Python 3 (ipykernel)",
   "language": "python",
   "name": "python3"
  },
  "language_info": {
   "codemirror_mode": {
    "name": "ipython",
    "version": 3
   },
   "file_extension": ".py",
   "mimetype": "text/x-python",
   "name": "python",
   "nbconvert_exporter": "python",
   "pygments_lexer": "ipython3",
   "version": "3.9.9"
  }
 },
 "nbformat": 4,
 "nbformat_minor": 2
}
